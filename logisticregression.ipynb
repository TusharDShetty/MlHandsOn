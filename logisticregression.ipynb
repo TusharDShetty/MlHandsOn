{
 "cells": [
  {
   "cell_type": "code",
   "execution_count": 9,
   "id": "4325bafa-fe09-4084-a034-c71f16321232",
   "metadata": {},
   "outputs": [
    {
     "name": "stdout",
     "output_type": "stream",
     "text": [
      "Accuracy: 0.65\n",
      "              precision    recall  f1-score   support\n",
      "\n",
      "           0       0.54      0.25      0.34       178\n",
      "           1       0.67      0.88      0.76       315\n",
      "\n",
      "    accuracy                           0.65       493\n",
      "   macro avg       0.61      0.56      0.55       493\n",
      "weighted avg       0.62      0.65      0.61       493\n",
      "\n"
     ]
    },
    {
     "name": "stdin",
     "output_type": "stream",
     "text": [
      "Enter today's closing price:  200\n"
     ]
    },
    {
     "name": "stdout",
     "output_type": "stream",
     "text": [
      "Prediction: The stock price is likely to increase over the next 30 days.\n",
      "1\n"
     ]
    }
   ],
   "source": [
    "import pandas as pd\n",
    "import numpy as np\n",
    "from sklearn.model_selection import train_test_split\n",
    "from sklearn.linear_model import LogisticRegression\n",
    "from sklearn.metrics import accuracy_score, classification_report\n",
    "\n",
    "da=pd.read_csv(\"D:/mlhandson/018_AXISBANK.csv\")\n",
    "dal =da[\"Date\"]\n",
    "clop = da[\"Close\"]  \n",
    "\n",
    "\n",
    "df = pd.DataFrame({'Date': dal, 'ClosingPrice': clop})\n",
    "df.sort_values(by='Date', inplace=True)\n",
    "\n",
    "df['PrevClosingPrice'] = df['ClosingPrice'].shift(1)\n",
    "df['Next30DaysDirection'] = (df['ClosingPrice'].shift(-30) > df['ClosingPrice']).astype(int)\n",
    "\n",
    "df.dropna(inplace=True)\n",
    "\n",
    "X = df[['PrevClosingPrice']].values\n",
    "y = df['Next30DaysDirection'].values\n",
    "\n",
    "X_train, X_test, y_train, y_test = train_test_split(X, y, test_size=0.2, random_state=42)\n",
    "\n",
    "log_reg = LogisticRegression()\n",
    "log_reg.fit(X_train, y_train)\n",
    "\n",
    "y_pred = log_reg.predict(X_test)\n",
    "\n",
    "accuracy = accuracy_score(y_test, y_pred)\n",
    "print(f\"Accuracy: {accuracy:.2f}\")\n",
    "print(classification_report(y_test, y_pred))\n",
    "today_closing_price = float(input(\"Enter today's closing price: \"))\n",
    "predicted_direction = log_reg.predict([[today_closing_price]])[0]\n",
    "if predicted_direction == 1:\n",
    "    print(\"Prediction: The stock price is likely to increase over the next 30 days.\")\n",
    "    print(predicted_direction)\n",
    "else:\n",
    "    print(\"Prediction: The stock price is likely to decrease over the next 30 days.\")\n"
   ]
  },
  {
   "cell_type": "code",
   "execution_count": null,
   "id": "7efe2a8b-ba27-4cd3-bdd5-f24c5b25752e",
   "metadata": {},
   "outputs": [],
   "source": []
  }
 ],
 "metadata": {
  "kernelspec": {
   "display_name": "Python 3 (ipykernel)",
   "language": "python",
   "name": "python3"
  },
  "language_info": {
   "codemirror_mode": {
    "name": "ipython",
    "version": 3
   },
   "file_extension": ".py",
   "mimetype": "text/x-python",
   "name": "python",
   "nbconvert_exporter": "python",
   "pygments_lexer": "ipython3",
   "version": "3.11.7"
  }
 },
 "nbformat": 4,
 "nbformat_minor": 5
}
